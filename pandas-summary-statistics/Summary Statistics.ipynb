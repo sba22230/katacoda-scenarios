{
 "cells": [
  {
   "cell_type": "code",
   "execution_count": 1,
   "metadata": {},
   "outputs": [],
   "source": [
    "import pandas as pd"
   ]
  },
  {
   "cell_type": "code",
   "execution_count": 3,
   "metadata": {},
   "outputs": [],
   "source": [
    "df = pd.read_csv(\"fifa_19.csv\")"
   ]
  },
  {
   "cell_type": "code",
   "execution_count": 4,
   "metadata": {},
   "outputs": [
    {
     "name": "stdout",
     "output_type": "stream",
     "text": [
      "   Unnamed: 0               Name  Age Nationality Preferred Foot  Height  \\\n",
      "0           0           L. Messi   31   Argentina           Left  170.18   \n",
      "1           1  Cristiano Ronaldo   33    Portugal          Right  187.96   \n",
      "2           2          Neymar Jr   26      Brazil          Right  175.26   \n",
      "3           3             De Gea   27       Spain          Right  193.04   \n",
      "4           4       K. De Bruyne   27     Belgium          Right  180.34   \n",
      "\n",
      "      Weight Position  Overall  \n",
      "0  72.121273       RF       94  \n",
      "1  83.007502       ST       94  \n",
      "2  68.038936       LW       92  \n",
      "3  76.203609       GK       91  \n",
      "4  69.853308      RCM       91  \n"
     ]
    }
   ],
   "source": [
    "print(df.head())"
   ]
  },
  {
   "cell_type": "code",
   "execution_count": 5,
   "metadata": {},
   "outputs": [],
   "source": [
    "pd.set_option('display.max_columns', None)"
   ]
  },
  {
   "cell_type": "code",
   "execution_count": 6,
   "metadata": {},
   "outputs": [],
   "source": [
    "pd.set_option('display.max_rows', None)"
   ]
  },
  {
   "cell_type": "code",
   "execution_count": 7,
   "metadata": {},
   "outputs": [],
   "source": [
    "df = df[['Name', 'Age', 'Nationality', 'Preferred Foot', 'Height', 'Weight', 'Position', 'Overall']]"
   ]
  },
  {
   "cell_type": "code",
   "execution_count": 8,
   "metadata": {},
   "outputs": [
    {
     "name": "stdout",
     "output_type": "stream",
     "text": [
      "                Name  Age Nationality Preferred Foot  Height     Weight  \\\n",
      "0           L. Messi   31   Argentina           Left  170.18  72.121273   \n",
      "1  Cristiano Ronaldo   33    Portugal          Right  187.96  83.007502   \n",
      "2          Neymar Jr   26      Brazil          Right  175.26  68.038936   \n",
      "3             De Gea   27       Spain          Right  193.04  76.203609   \n",
      "4       K. De Bruyne   27     Belgium          Right  180.34  69.853308   \n",
      "\n",
      "  Position  Overall  \n",
      "0       RF       94  \n",
      "1       ST       94  \n",
      "2       LW       92  \n",
      "3       GK       91  \n",
      "4      RCM       91  \n"
     ]
    }
   ],
   "source": [
    "print(df.head())"
   ]
  },
  {
   "cell_type": "code",
   "execution_count": 9,
   "metadata": {},
   "outputs": [
    {
     "name": "stdout",
     "output_type": "stream",
     "text": [
      "Mean Height (cm):  181.25758356737708\n"
     ]
    }
   ],
   "source": [
    "print(\"Mean Height (cm): \", df['Height'].mean())"
   ]
  },
  {
   "cell_type": "code",
   "execution_count": 10,
   "metadata": {},
   "outputs": [
    {
     "name": "stdout",
     "output_type": "stream",
     "text": [
      "Mean Weight (kg):  75.28695594100225\n"
     ]
    }
   ],
   "source": [
    "print(\"Mean Weight (kg): \", df['Weight'].mean())"
   ]
  },
  {
   "cell_type": "code",
   "execution_count": 11,
   "metadata": {},
   "outputs": [
    {
     "name": "stdout",
     "output_type": "stream",
     "text": [
      "Standard Deviation Height (kg):  6.730145414122808\n"
     ]
    }
   ],
   "source": [
    "print(\"Standard Deviation Height (kg): \", df['Height'].std())"
   ]
  },
  {
   "cell_type": "code",
   "execution_count": 12,
   "metadata": {},
   "outputs": [
    {
     "name": "stdout",
     "output_type": "stream",
     "text": [
      "Standard Deviation Weight (kg):  7.073030454130499\n"
     ]
    }
   ],
   "source": [
    "print(\"Standard Deviation Weight (kg): \", df['Weight'].std())"
   ]
  },
  {
   "cell_type": "code",
   "execution_count": 13,
   "metadata": {},
   "outputs": [
    {
     "name": "stdout",
     "output_type": "stream",
     "text": [
      "Minimum Height (kg):  154.94\n",
      "Maximum Height (kg):  205.74\n"
     ]
    }
   ],
   "source": [
    "print(\"Minimum Height (kg): \", df['Height'].min())\n",
    "print(\"Maximum Height (kg): \", df['Height'].max())"
   ]
  },
  {
   "cell_type": "code",
   "execution_count": 14,
   "metadata": {},
   "outputs": [
    {
     "name": "stdout",
     "output_type": "stream",
     "text": [
      "Minimum Weight (kg):  49.895220037920375\n",
      "Maximum Weight (kg):  110.22307699286046\n"
     ]
    }
   ],
   "source": [
    "print(\"Minimum Weight (kg): \", df['Weight'].min())\n",
    "print(\"Maximum Weight (kg): \", df['Weight'].max())"
   ]
  },
  {
   "cell_type": "code",
   "execution_count": 15,
   "metadata": {},
   "outputs": [
    {
     "name": "stdout",
     "output_type": "stream",
     "text": [
      "Mode of Nationality:  0    England\n",
      "Name: Nationality, dtype: object\n"
     ]
    }
   ],
   "source": [
    "print(\"Mode of Nationality: \", df['Nationality'].mode())"
   ]
  },
  {
   "cell_type": "code",
   "execution_count": 16,
   "metadata": {},
   "outputs": [
    {
     "name": "stdout",
     "output_type": "stream",
     "text": [
      "Mode of Position:  0    ST\n",
      "Name: Position, dtype: object\n"
     ]
    }
   ],
   "source": [
    "print(\"Mode of Position: \", df['Position'].mode())"
   ]
  },
  {
   "cell_type": "code",
   "execution_count": 17,
   "metadata": {},
   "outputs": [
    {
     "name": "stdout",
     "output_type": "stream",
     "text": [
      "Mode of Preferred Foot:  0    Right\n",
      "Name: Preferred Foot, dtype: object\n"
     ]
    }
   ],
   "source": [
    "print(\"Mode of Preferred Foot: \", df['Preferred Foot'].mode())"
   ]
  },
  {
   "cell_type": "code",
   "execution_count": 18,
   "metadata": {},
   "outputs": [
    {
     "name": "stdout",
     "output_type": "stream",
     "text": [
      "[('England', 1662), ('Germany', 1198), ('Spain', 1072), ('Argentina', 937), ('France', 914)]\n",
      "[('ST', 2152), ('GK', 2025), ('CB', 1778), ('CM', 1394), ('LB', 1322)]\n",
      "[('Right', 13948), ('Left', 4211), (nan, 48)]\n"
     ]
    }
   ],
   "source": [
    "from collections import Counter\n",
    "print(Counter(df['Nationality']).most_common(5))\n",
    "print(Counter(df['Position']).most_common(5))\n",
    "print(Counter(df['Preferred Foot']).most_common(5))"
   ]
  },
  {
   "cell_type": "code",
   "execution_count": null,
   "metadata": {},
   "outputs": [],
   "source": []
  }
 ],
 "metadata": {
  "kernelspec": {
   "display_name": "dublinbusenv",
   "language": "python",
   "name": "dublinbusenv"
  },
  "language_info": {
   "codemirror_mode": {
    "name": "ipython",
    "version": 3
   },
   "file_extension": ".py",
   "mimetype": "text/x-python",
   "name": "python",
   "nbconvert_exporter": "python",
   "pygments_lexer": "ipython3",
   "version": "3.9.1"
  },
  "orig_nbformat": 4
 },
 "nbformat": 4,
 "nbformat_minor": 2
}
