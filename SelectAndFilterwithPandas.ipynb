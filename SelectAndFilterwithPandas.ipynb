{
 "cells": [
  {
   "cell_type": "code",
   "execution_count": 28,
   "metadata": {},
   "outputs": [],
   "source": [
    "import pandas as pd\n",
    "import os"
   ]
  },
  {
   "cell_type": "code",
   "execution_count": 29,
   "metadata": {},
   "outputs": [],
   "source": [
    "# once off run\n",
    "# os.chdir('./pandas-data-selection-and-filtering')"
   ]
  },
  {
   "cell_type": "code",
   "execution_count": 30,
   "metadata": {},
   "outputs": [
    {
     "name": "stdout",
     "output_type": "stream",
     "text": [
      "  age_upon_outcome animal_id animal_type                    breed  \\\n",
      "0          2 weeks   A684346         Cat   Domestic Shorthair Mix   \n",
      "1           1 year   A666430         Dog               Beagle Mix   \n",
      "2           1 year   A675708         Dog                 Pit Bull   \n",
      "3          9 years   A680386         Dog  Miniature Schnauzer Mix   \n",
      "4         5 months   A683115       Other                  Bat Mix   \n",
      "\n",
      "          color        date_of_birth             datetime  \\\n",
      "0  Orange Tabby  2014-07-07T00:00:00  2014-07-22T16:04:00   \n",
      "1   White/Brown  2012-11-06T00:00:00  2013-11-07T11:47:00   \n",
      "2    Blue/White  2013-03-31T00:00:00  2014-06-03T14:20:00   \n",
      "3         White  2005-06-02T00:00:00  2014-06-15T15:50:00   \n",
      "4         Brown  2014-01-07T00:00:00  2014-07-07T14:04:00   \n",
      "\n",
      "             monthyear     name outcome_subtype outcome_type sex_upon_outcome  \n",
      "0  2014-07-22T16:04:00      NaN         Partner     Transfer      Intact Male  \n",
      "1  2013-11-07T11:47:00     Lucy         Partner     Transfer    Spayed Female  \n",
      "2  2014-06-03T14:20:00  *Johnny             NaN     Adoption    Neutered Male  \n",
      "3  2014-06-15T15:50:00   Monday         Partner     Transfer    Neutered Male  \n",
      "4  2014-07-07T14:04:00      NaN     Rabies Risk   Euthanasia          Unknown  \n"
     ]
    }
   ],
   "source": [
    "df = pd.read_csv('aac_shelter_outcomes.csv')\n",
    "print(df.head())"
   ]
  },
  {
   "cell_type": "markdown",
   "metadata": {},
   "source": [
    "Select data with Pandas \n",
    "select Animal_type, color, breed"
   ]
  },
  {
   "cell_type": "code",
   "execution_count": 31,
   "metadata": {},
   "outputs": [
    {
     "name": "stdout",
     "output_type": "stream",
     "text": [
      "  animal_type                    breed         color\n",
      "0         Cat   Domestic Shorthair Mix  Orange Tabby\n",
      "1         Dog               Beagle Mix   White/Brown\n",
      "2         Dog                 Pit Bull    Blue/White\n",
      "3         Dog  Miniature Schnauzer Mix         White\n",
      "4       Other                  Bat Mix         Brown\n"
     ]
    }
   ],
   "source": [
    "df_select = df[['animal_type', 'breed', 'color']]\n",
    "print(df_select.head())"
   ]
  },
  {
   "cell_type": "code",
   "execution_count": 32,
   "metadata": {},
   "outputs": [
    {
     "name": "stderr",
     "output_type": "stream",
     "text": [
      "C:\\Users\\stehayes\\AppData\\Local\\Temp\\ipykernel_668\\3286189985.py:1: FutureWarning: In a future version, `df.iloc[:, i] = newvals` will attempt to set the values inplace instead of always setting a new array. To retain the old behavior, use either `df[df.columns[i]] = newvals` or, if columns are non-unique, `df.isetitem(i, newvals)`\n",
      "  df.loc[:, 'date_of_birth'] = pd.to_datetime(df['date_of_birth'])\n"
     ]
    }
   ],
   "source": [
    "df.loc[:, 'date_of_birth'] = pd.to_datetime(df['date_of_birth'])"
   ]
  },
  {
   "cell_type": "markdown",
   "metadata": {},
   "source": [
    "Lets create a week column"
   ]
  },
  {
   "cell_type": "code",
   "execution_count": 33,
   "metadata": {},
   "outputs": [
    {
     "name": "stderr",
     "output_type": "stream",
     "text": [
      "C:\\Users\\stehayes\\AppData\\Local\\Temp\\ipykernel_668\\2532956460.py:1: FutureWarning: Series.dt.weekofyear and Series.dt.week have been deprecated. Please use Series.dt.isocalendar().week instead.\n",
      "  df.loc[:,'week'] = df['date_of_birth'].dt.week\n"
     ]
    }
   ],
   "source": [
    "df.loc[:,'week'] = df['date_of_birth'].dt.week"
   ]
  },
  {
   "cell_type": "markdown",
   "metadata": {},
   "source": [
    "We can also create month and year columns:"
   ]
  },
  {
   "cell_type": "code",
   "execution_count": 34,
   "metadata": {},
   "outputs": [],
   "source": [
    "df.loc[:,'year'] = df['date_of_birth'].dt.year\n",
    "df.loc[:,'month'] = df['date_of_birth'].dt.month"
   ]
  },
  {
   "cell_type": "code",
   "execution_count": 35,
   "metadata": {},
   "outputs": [
    {
     "name": "stdout",
     "output_type": "stream",
     "text": [
      "  age_upon_outcome animal_id animal_type                    breed  \\\n",
      "0          2 weeks   A684346         Cat   Domestic Shorthair Mix   \n",
      "1           1 year   A666430         Dog               Beagle Mix   \n",
      "2           1 year   A675708         Dog                 Pit Bull   \n",
      "3          9 years   A680386         Dog  Miniature Schnauzer Mix   \n",
      "4         5 months   A683115       Other                  Bat Mix   \n",
      "\n",
      "          color date_of_birth             datetime            monthyear  \\\n",
      "0  Orange Tabby    2014-07-07  2014-07-22T16:04:00  2014-07-22T16:04:00   \n",
      "1   White/Brown    2012-11-06  2013-11-07T11:47:00  2013-11-07T11:47:00   \n",
      "2    Blue/White    2013-03-31  2014-06-03T14:20:00  2014-06-03T14:20:00   \n",
      "3         White    2005-06-02  2014-06-15T15:50:00  2014-06-15T15:50:00   \n",
      "4         Brown    2014-01-07  2014-07-07T14:04:00  2014-07-07T14:04:00   \n",
      "\n",
      "      name outcome_subtype outcome_type sex_upon_outcome  week  year  month  \n",
      "0      NaN         Partner     Transfer      Intact Male    28  2014      7  \n",
      "1     Lucy         Partner     Transfer    Spayed Female    45  2012     11  \n",
      "2  *Johnny             NaN     Adoption    Neutered Male    13  2013      3  \n",
      "3   Monday         Partner     Transfer    Neutered Male    22  2005      6  \n",
      "4      NaN     Rabies Risk   Euthanasia          Unknown     2  2014      1  \n"
     ]
    }
   ],
   "source": [
    "print(df.head())"
   ]
  },
  {
   "cell_type": "markdown",
   "metadata": {},
   "source": [
    "Finally, we can select our engineered columns along with an original column, say sex_upon_outcome:"
   ]
  },
  {
   "cell_type": "code",
   "execution_count": 36,
   "metadata": {},
   "outputs": [],
   "source": [
    "df_select = df[['animal_type', 'breed', 'color', 'week', 'year', 'month','sex_upon_outcome']]"
   ]
  },
  {
   "cell_type": "code",
   "execution_count": 37,
   "metadata": {},
   "outputs": [
    {
     "name": "stdout",
     "output_type": "stream",
     "text": [
      "  animal_type                    breed         color  week  year  month  \\\n",
      "0         Cat   Domestic Shorthair Mix  Orange Tabby    28  2014      7   \n",
      "1         Dog               Beagle Mix   White/Brown    45  2012     11   \n",
      "2         Dog                 Pit Bull    Blue/White    13  2013      3   \n",
      "3         Dog  Miniature Schnauzer Mix         White    22  2005      6   \n",
      "4       Other                  Bat Mix         Brown     2  2014      1   \n",
      "\n",
      "  sex_upon_outcome  \n",
      "0      Intact Male  \n",
      "1    Spayed Female  \n",
      "2    Neutered Male  \n",
      "3    Neutered Male  \n",
      "4          Unknown  \n"
     ]
    }
   ],
   "source": [
    "print(df_select.head())"
   ]
  },
  {
   "cell_type": "markdown",
   "metadata": {},
   "source": [
    "Filtering data with Pandas!\n"
   ]
  },
  {
   "cell_type": "code",
   "execution_count": 38,
   "metadata": {},
   "outputs": [
    {
     "name": "stdout",
     "output_type": "stream",
     "text": [
      "{1991, 1992, 1993, 1994, 1995, 1996, 1997, 1998, 1999, 2000, 2001, 2002, 2003, 2004, 2005, 2006, 2007, 2008, 2009, 2010, 2011, 2012, 2013, 2014, 2015, 2016, 2017}\n"
     ]
    }
   ],
   "source": [
    "# Filter by year 2010\n",
    "print(set(df_select['year'].values))\n"
   ]
  },
  {
   "cell_type": "code",
   "execution_count": 39,
   "metadata": {},
   "outputs": [
    {
     "name": "stdout",
     "output_type": "stream",
     "text": [
      "{2010}\n"
     ]
    }
   ],
   "source": [
    "df_select = df_select[df_select['year'] == 2010]\n",
    "print(set(df_select['year'].values))"
   ]
  },
  {
   "cell_type": "markdown",
   "metadata": {},
   "source": [
    "Filter by categorical values "
   ]
  },
  {
   "cell_type": "code",
   "execution_count": 40,
   "metadata": {},
   "outputs": [
    {
     "name": "stdout",
     "output_type": "stream",
     "text": [
      "{'Neutered Male', 'Unknown', 'Intact Male', 'Spayed Female', 'Intact Female'}\n"
     ]
    }
   ],
   "source": [
    "print(set(df_select['sex_upon_outcome'].values))"
   ]
  },
  {
   "cell_type": "code",
   "execution_count": 41,
   "metadata": {},
   "outputs": [],
   "source": [
    "df_select_new = df_select[df_select['sex_upon_outcome'] == 'Intact Male']"
   ]
  },
  {
   "cell_type": "code",
   "execution_count": 43,
   "metadata": {},
   "outputs": [
    {
     "name": "stdout",
     "output_type": "stream",
     "text": [
      "{'Intact Male'}\n"
     ]
    }
   ],
   "source": [
    "print(set(df_select_new['sex_upon_outcome'].values))"
   ]
  },
  {
   "cell_type": "code",
   "execution_count": 44,
   "metadata": {},
   "outputs": [],
   "source": [
    "df_select_new = df_select[df_select['sex_upon_outcome'].isin(['Intact Male', 'Spayed Female'])]"
   ]
  },
  {
   "cell_type": "code",
   "execution_count": 45,
   "metadata": {},
   "outputs": [
    {
     "name": "stdout",
     "output_type": "stream",
     "text": [
      "{'Intact Male', 'Spayed Female'}\n"
     ]
    }
   ],
   "source": [
    "print(set(df_select_new['sex_upon_outcome'].values))"
   ]
  },
  {
   "cell_type": "code",
   "execution_count": null,
   "metadata": {},
   "outputs": [],
   "source": []
  }
 ],
 "metadata": {
  "kernelspec": {
   "display_name": "dublinbusenv",
   "language": "python",
   "name": "dublinbusenv"
  },
  "language_info": {
   "codemirror_mode": {
    "name": "ipython",
    "version": 3
   },
   "file_extension": ".py",
   "mimetype": "text/x-python",
   "name": "python",
   "nbconvert_exporter": "python",
   "pygments_lexer": "ipython3",
   "version": "3.9.1"
  },
  "orig_nbformat": 4
 },
 "nbformat": 4,
 "nbformat_minor": 2
}
